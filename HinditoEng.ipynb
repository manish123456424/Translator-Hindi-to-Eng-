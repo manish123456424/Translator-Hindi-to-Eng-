{
 "cells": [
  {
   "cell_type": "code",
   "execution_count": 1,
   "metadata": {},
   "outputs": [],
   "source": [
    "# -*- coding: utf-8 -*-\n",
    "from PIL import Image\n",
    "import pytesseract\n",
    "\n",
    "pytesseract.pytesseract.tesseract_cmd = 'C:/Program Files (x86)/Tesseract-OCR/tesseract'\n",
    "\n",
    "im = Image.open(\"image.png\")"
   ]
  },
  {
   "cell_type": "code",
   "execution_count": 2,
   "metadata": {},
   "outputs": [],
   "source": [
    "pytesseract.pytesseract.tesseract_cmd = r\"C:\\Program Files\\Tesseract-OCR\\tesseract.exe\""
   ]
  },
  {
   "cell_type": "code",
   "execution_count": 3,
   "metadata": {},
   "outputs": [],
   "source": [
    "tesseract_cmd = 'C:\\\\Program Files (x86)\\\\Tesseract-OCR\\\\tesseract.exe'"
   ]
  },
  {
   "cell_type": "code",
   "execution_count": 4,
   "metadata": {},
   "outputs": [],
   "source": [
    "# converts the image to result and saves it into result variable \n",
    "text = pytesseract.image_to_string(im, lang = 'hin')"
   ]
  },
  {
   "cell_type": "code",
   "execution_count": 5,
   "metadata": {},
   "outputs": [
    {
     "name": "stdout",
     "output_type": "stream",
     "text": [
      "522\n",
      "दकाश। : १००९०००स्घरू ८27 0० ऑरिजिनल कॉपी\n",
      "\n",
      "क्रेता . : सायर चन्द\n",
      "\n",
      "सकरूपमल पदमचन्द\n",
      "\n",
      "धान मडी नागौर (राज 34!007 क्ताडा :वुडा\n",
      "टेलीफोन न:: 0582-240204 राज)\n",
      "\n",
      "मोनम्बर: 94742-40204 ळ :\n",
      "\n",
      "विल न. : -2559.. दिनांक : ०२०२२०५७ प्लेस ऑफ्र सप्लाई: €शंकनफतमा (08)\n",
      "\n",
      "क मातकाणिबिरण समसम ना शिग ब एन्नकर न्ना अनास्न` क्तम ()\n",
      "2, नत 2०5 420 84 असवळर 8स सम बला अतदत सक्\n",
      "\n",
      "म्हाषेग . र स०७\n",
      "\n",
      "2७ जासयायगरमाततततबभजानत/रणा&ट009000यगनयामजगनमशजर\n",
      "\n",
      "09685 व97) 078 प१०0७भ 509९7 ॥9900@0 79070 00\n",
      "वास्ते सकरूपमल पदमचन्द\n",
      "\n",
      "पराप्तकर्ता के हस्ताक्षर\n",
      "अधिकृत हस्ताक्षर\n"
     ]
    },
    {
     "data": {
      "text/plain": [
       "0"
      ]
     },
     "execution_count": 5,
     "metadata": {},
     "output_type": "execute_result"
    }
   ],
   "source": [
    "print(len(text))\n",
    "print(text)\n",
    "import codecs\n",
    "f = codecs.open('bla.txt', encoding='utf-8', mode='r+')\n",
    "f.write(text)\n",
    "f.close()\n",
    "file1 = open(\"bla.txt\", encoding='utf-8',mode=\"r+\")\n",
    "file1.seek(0)"
   ]
  },
  {
   "cell_type": "code",
   "execution_count": 6,
   "metadata": {},
   "outputs": [
    {
     "name": "stdout",
     "output_type": "stream",
     "text": [
      "522\n"
     ]
    }
   ],
   "source": [
    "print(len(text))"
   ]
  },
  {
   "cell_type": "code",
   "execution_count": 7,
   "metadata": {},
   "outputs": [],
   "source": [
    "#translates into the mentioned language \n",
    "from googletrans import Translator"
   ]
  },
  {
   "cell_type": "code",
   "execution_count": 8,
   "metadata": {},
   "outputs": [
    {
     "name": "stdout",
     "output_type": "stream",
     "text": [
      "Translated(src=ne, dest=en, text=Dakasa. : 100 9 000 827 00 Original Copy sgharu\n",
      "\n",
      "The buyer. : Sawyer Chand\n",
      "\n",
      "sakarupamala padamacanda\n",
      "\n",
      "Muddy rice Nagaur (Raj 34! 007 ktada: vuda\n",
      ":: Telephone No. 0582-240204 Raj)\n",
      "\n",
      "Monambara: 94742-40204 --Browser:\n",
      "\n",
      "Will not. : -2559 .. Date: 02022057 Place ophra supply: € sankanaphatama (08)\n",
      "\n",
      "A matakanibirana not siga Sumsum B ennakara belongs to anasna ktama ()\n",
      "2, nor even C 205 420 84 asavalara 8 atadata road of hell\n",
      "\n",
      "Mhasega. And C 07\n",
      "\n",
      "27 jasayayagaramatatatatababhajanata / rana & T 009000 yaganayamajaganamasajara\n",
      "\n",
      "09685 and 97) 078 1007 Pa rt @ 0 79070 509 9 7 00 9900\n",
      "Sakarupamala for padamacanda\n",
      "\n",
      "Paraptakarta signature\n",
      "authorized signature, pronunciation=None, extra_data=\"{'translat...\")\n"
     ]
    }
   ],
   "source": [
    "p = Translator()                       \n",
    "# translates the text into german language \n",
    "k = p.translate(text,dest='english')       \n",
    "print(k)"
   ]
  },
  {
   "cell_type": "code",
   "execution_count": null,
   "metadata": {},
   "outputs": [],
   "source": []
  },
  {
   "cell_type": "code",
   "execution_count": null,
   "metadata": {},
   "outputs": [],
   "source": []
  }
 ],
 "metadata": {
  "kernelspec": {
   "display_name": "Python 3",
   "language": "python",
   "name": "python3"
  },
  "language_info": {
   "codemirror_mode": {
    "name": "ipython",
    "version": 3
   },
   "file_extension": ".py",
   "mimetype": "text/x-python",
   "name": "python",
   "nbconvert_exporter": "python",
   "pygments_lexer": "ipython3",
   "version": "3.7.4"
  }
 },
 "nbformat": 4,
 "nbformat_minor": 2
}
