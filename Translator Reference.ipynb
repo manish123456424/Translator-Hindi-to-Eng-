{
 "cells": [
  {
   "cell_type": "code",
   "execution_count": null,
   "metadata": {},
   "outputs": [],
   "source": [
    "#pip install pyttsx3\n",
    "!pip install googletrans"
   ]
  },
  {
   "cell_type": "code",
   "execution_count": 10,
   "metadata": {},
   "outputs": [
    {
     "name": "stdout",
     "output_type": "stream",
     "text": [
      "<PIL.JpegImagePlugin.JpegImageFile image mode=RGB size=920x510 at 0x2079C6A3978>\n"
     ]
    }
   ],
   "source": [
    "# import the following libraries \n",
    "# will convert the image to text string \n",
    "import pytesseract       \n",
    "  \n",
    "# adds image processing capabilities \n",
    "from PIL import Image     \n",
    "  \n",
    " # converts the text to speech   \n",
    "import pyttsx3            \n",
    "  \n",
    "#translates into the mentioned language \n",
    "from googletrans import Translator       \n",
    "  \n",
    " # opening an image from the source path \n",
    "img = Image.open(\"C:\\\\Users\\\\SPDS\\\\Downloads\\\\Shiva Tasks Evng Batch\\\\Problem4.jpeg\")      \n",
    "  \n",
    "# describes image format in the output \n",
    "print(img)"
   ]
  },
  {
   "cell_type": "code",
   "execution_count": null,
   "metadata": {},
   "outputs": [],
   "source": []
  },
  {
   "cell_type": "code",
   "execution_count": 11,
   "metadata": {},
   "outputs": [],
   "source": [
    "# path where the tesseract module is installed \n",
    "pytesseract.pytesseract.tesseract_cmd =r'C:\\\\Users\\\\SPDS\\\\AppData\\\\Local\\\\Tesseract-OCR\\\\tesseract.exe'"
   ]
  },
  {
   "cell_type": "code",
   "execution_count": 19,
   "metadata": {},
   "outputs": [],
   "source": [
    "# converts the image to result and saves it into result variable \n",
    "result = pytesseract.image_to_string(img , lang = \"hin\")"
   ]
  },
  {
   "cell_type": "code",
   "execution_count": 20,
   "metadata": {},
   "outputs": [
    {
     "name": "stdout",
     "output_type": "stream",
     "text": [
      "उरिजिनल कॉपी\n",
      "\n",
      "पाए ; ०86 0१९8३4978!25 डा ्क/ 0:\n",
      "सकरूूपमल पदमचन्द क्रेता. : सायर चन्द\n",
      "धान मंडी नागौर [राज] 34007 खुदखुड़ा\n",
      "\n",
      "नौगौरे [राज\n",
      "\n",
      "टेलीफोन न: : 0582-240204\n",
      "\n",
      "मो. नम्बर: 9442-40204 (5774\n",
      "\n",
      ":. 02-02-2038 प्लेस ऑफ़ सप्लाई: गुंवन गा (08)\n",
      "\n",
      "बिल न. : छछा-2559 . दिनांक\n",
      "क्र माल का विवरण डालर . मात्रा नग लिस्ट मूल्य ८65. ८४5 हल. इ657 555 #गए. कुल मूल्य (*)\n",
      "है अदुवनवीअ किस ०4०59 00. 05... 30.6०. 6.00% 0,357... 6,00१... 3.083.57 ... स,रसक, 09\n",
      "\n",
      "महाबोग.. हैं. सपरर०००\n",
      "\n",
      "'उ०७ छ32% ० 9,392. 86 0७57-5,563.57 565 ० 5,63.57 7०6 5257 29,392.85 0८5 5 63:57 555 > 463.57\n",
      "\n",
      "रप़ह25 हा (एाह प॥00520 56४87 निघाव 60 पडा 0ाषि\n",
      "वास्ते  सकरूपमल पदमचन्द\n",
      "\n",
      "प्राप्तकर्ता के हस्ताक्षर\n",
      "अधिकृत हस्ताक्षर\n"
     ]
    }
   ],
   "source": [
    "print(result)"
   ]
  },
  {
   "cell_type": "code",
   "execution_count": 16,
   "metadata": {},
   "outputs": [
    {
     "name": "stdout",
     "output_type": "stream",
     "text": [
      "Translated(src=hi, dest=en, text=Urijinl Copy\n",
      "\n",
      "Found; 086 01 9 834 978! 25 Dr. hundred / 0:\n",
      "Skruupml Pdmchand buyer. : Sire Chand\n",
      "Paddy market Nagaur [rule] 34007 Khudkhudha\n",
      "\n",
      "Naugure [Secrets\n",
      "\n",
      "Telephone: 0582-240204\n",
      "\n",
      "Mo. Number: 9442-40204 (5774\n",
      "\n",
      ". 02-02-2038 Place of supply: Gunvn Ga (08)\n",
      "\n",
      "Neither bill. : Cchha -2559. date\n",
      "Details Dollar car goods. Volume Nos list price 865. Hull 845. ME 657 to 555 #. Total value (*)\n",
      "The Aduvnvia which 04 059 00 05 ... 30.60. 6.00% 0357 ... 6001 ... 3.083.57 ... C, Rsk, 09\n",
      "\n",
      "Mahabog .. are. Sprr 000\n",
      "\n",
      "\"A 07 g 32% 0 9392. 86 0757-5,563.57 565 0 5,63.57 706 5257 29,392.85 085 5 63:57 555> 463.57\n",
      "\n",
      "The Rphh 25 ha (Aah 0.00520 56,487 Nigav 60 had 0 Asi\n",
      "In order Skrupml Pdmchand\n",
      "\n",
      "The recipient's signature\n",
      "Authorized Signature, pronunciation=None, extra_data=\"{'translat...\")\n"
     ]
    }
   ],
   "source": [
    "p = Translator()                       \n",
    "# translates the text into german language \n",
    "k = p.translate(result,dest='english')       \n",
    "print(k)"
   ]
  },
  {
   "cell_type": "code",
   "execution_count": null,
   "metadata": {},
   "outputs": [],
   "source": []
  }
 ],
 "metadata": {
  "kernelspec": {
   "display_name": "Python 3",
   "language": "python",
   "name": "python3"
  },
  "language_info": {
   "codemirror_mode": {
    "name": "ipython",
    "version": 3
   },
   "file_extension": ".py",
   "mimetype": "text/x-python",
   "name": "python",
   "nbconvert_exporter": "python",
   "pygments_lexer": "ipython3",
   "version": "3.7.4"
  }
 },
 "nbformat": 4,
 "nbformat_minor": 2
}
